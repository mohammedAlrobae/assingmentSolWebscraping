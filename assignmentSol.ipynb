{
 "cells": [
  {
   "cell_type": "code",
   "execution_count": 31,
   "id": "67647c19-be17-48de-8168-3fcd66c5e277",
   "metadata": {},
   "outputs": [
    {
     "name": "stdout",
     "output_type": "stream",
     "text": [
      "<class 'pandas.core.frame.DataFrame'>\n",
      "DatetimeIndex: 3535 entries, 2010-06-29 00:00:00-04:00 to 2024-07-16 00:00:00-04:00\n",
      "Data columns (total 7 columns):\n",
      " #   Column        Non-Null Count  Dtype  \n",
      "---  ------        --------------  -----  \n",
      " 0   Open          3535 non-null   float64\n",
      " 1   High          3535 non-null   float64\n",
      " 2   Low           3535 non-null   float64\n",
      " 3   Close         3535 non-null   float64\n",
      " 4   Volume        3535 non-null   int64  \n",
      " 5   Dividends     3535 non-null   float64\n",
      " 6   Stock Splits  3535 non-null   float64\n",
      "dtypes: float64(6), int64(1)\n",
      "memory usage: 220.9 KB\n"
     ]
    }
   ],
   "source": [
    "# Import necessary libraries\n",
    "import yfinance as yf\n",
    "import pandas as pd\n",
    "\n",
    "# Extract Tesla stock data\n",
    "tesla = yf.Ticker(\"TSLA\")\n",
    "tesla_stock_data = tesla.history(period=\"max\")\n",
    "\n",
    "# Display information about the extracted data\n",
    "tesla_stock_data.info()\n",
    "tesla_stock_data.reset_index(inplace=True)\n"
   ]
  },
  {
   "cell_type": "code",
   "execution_count": 36,
   "id": "776eafdf-cc12-4f30-95c8-c8bbeb2247b9",
   "metadata": {},
   "outputs": [
    {
     "name": "stdout",
     "output_type": "stream",
     "text": [
      "Expected table not found on the webpage.\n"
     ]
    }
   ],
   "source": [
    "# Import necessary libraries\n",
    "import requests\n",
    "from bs4 import BeautifulSoup\n",
    "import pandas as pd\n",
    "\n",
    "# Define the URL for Tesla revenue data\n",
    "url = \"https://www.macrotrends.net/stocks/charts/TSLA/tesla/revenue\"\n",
    "\n",
    "# Send a request to the website\n",
    "html_data = requests.get(url).text\n",
    "\n",
    "# Parse the HTML data\n",
    "soup = BeautifulSoup(html_data, 'html.parser')\n",
    "\n",
    "# Find the table containing the revenue data\n",
    "tables = soup.find_all('table')\n",
    "\n",
    "# Verify that the expected table is present\n",
    "if len(tables) > 1:\n",
    "    # Extract the table rows\n",
    "    revenue_table = tables[1].find_all('tr')\n",
    "\n",
    "    # Extract the revenue data into a list\n",
    "    tesla_revenue = []\n",
    "    for row in revenue_table[1:]:\n",
    "        col = row.find_all('td')\n",
    "        date = col[0].text.strip()\n",
    "        revenue = col[1].text.strip().replace('$', '').replace(',', '')\n",
    "        tesla_revenue.append({\"Date\": date, \"Revenue\": revenue})\n",
    "\n",
    "    # Convert the list to a DataFrame\n",
    "    tesla_revenue_df = pd.DataFrame(tesla_revenue)\n",
    "\n",
    "    # Display the DataFrame\n",
    "    print(tesla_revenue_df.head())\n",
    "else:\n",
    "    print(\"Expected table not found on the webpage.\")\n"
   ]
  },
  {
   "cell_type": "code",
   "execution_count": 37,
   "id": "b5b9c3e5-6185-49d9-8daa-29b32b6d0702",
   "metadata": {},
   "outputs": [
    {
     "name": "stdout",
     "output_type": "stream",
     "text": [
      "<class 'pandas.core.frame.DataFrame'>\n",
      "DatetimeIndex: 5643 entries, 2002-02-13 00:00:00-05:00 to 2024-07-16 00:00:00-04:00\n",
      "Data columns (total 7 columns):\n",
      " #   Column        Non-Null Count  Dtype  \n",
      "---  ------        --------------  -----  \n",
      " 0   Open          5643 non-null   float64\n",
      " 1   High          5643 non-null   float64\n",
      " 2   Low           5643 non-null   float64\n",
      " 3   Close         5643 non-null   float64\n",
      " 4   Volume        5643 non-null   int64  \n",
      " 5   Dividends     5643 non-null   float64\n",
      " 6   Stock Splits  5643 non-null   float64\n",
      "dtypes: float64(6), int64(1)\n",
      "memory usage: 352.7 KB\n"
     ]
    }
   ],
   "source": [
    "# Extract GameStop stock data\n",
    "gamestop = yf.Ticker(\"GME\")\n",
    "gamestop_stock_data = gamestop.history(period=\"max\")\n",
    "\n",
    "# Display information about the extracted data\n",
    "gamestop_stock_data.info()\n",
    "gamestop_stock_data.reset_index(inplace=True)\n"
   ]
  },
  {
   "cell_type": "code",
   "execution_count": 38,
   "id": "c100b00e-e088-41dc-9e24-7648625e7654",
   "metadata": {},
   "outputs": [
    {
     "ename": "IndexError",
     "evalue": "list index out of range",
     "output_type": "error",
     "traceback": [
      "\u001b[0;31m---------------------------------------------------------------------------\u001b[0m",
      "\u001b[0;31mIndexError\u001b[0m                                Traceback (most recent call last)",
      "Cell \u001b[0;32mIn[38], line 14\u001b[0m\n\u001b[1;32m     11\u001b[0m tables \u001b[38;5;241m=\u001b[39m soup\u001b[38;5;241m.\u001b[39mfind_all(\u001b[38;5;124m'\u001b[39m\u001b[38;5;124mtable\u001b[39m\u001b[38;5;124m'\u001b[39m)\n\u001b[1;32m     13\u001b[0m \u001b[38;5;66;03m# Extract the table rows\u001b[39;00m\n\u001b[0;32m---> 14\u001b[0m revenue_table \u001b[38;5;241m=\u001b[39m \u001b[43mtables\u001b[49m\u001b[43m[\u001b[49m\u001b[38;5;241;43m1\u001b[39;49m\u001b[43m]\u001b[49m\u001b[38;5;241m.\u001b[39mfind_all(\u001b[38;5;124m'\u001b[39m\u001b[38;5;124mtr\u001b[39m\u001b[38;5;124m'\u001b[39m)\n\u001b[1;32m     16\u001b[0m \u001b[38;5;66;03m# Extract the revenue data into a list\u001b[39;00m\n\u001b[1;32m     17\u001b[0m gamestop_revenue \u001b[38;5;241m=\u001b[39m []\n",
      "\u001b[0;31mIndexError\u001b[0m: list index out of range"
     ]
    }
   ],
   "source": [
    "# Define the URL for GameStop revenue data\n",
    "url = \"https://www.macrotrends.net/stocks/charts/GME/gamestop/revenue\"\n",
    "\n",
    "# Send a request to the website\n",
    "html_data = requests.get(url).text\n",
    "\n",
    "# Parse the HTML data\n",
    "soup = BeautifulSoup(html_data, 'html.parser')\n",
    "\n",
    "# Find the table containing the revenue data\n",
    "tables = soup.find_all('table')\n",
    "\n",
    "# Extract the table rows\n",
    "revenue_table = tables[1].find_all('tr')\n",
    "\n",
    "# Extract the revenue data into a list\n",
    "gamestop_revenue = []\n",
    "for row in revenue_table[1:]:\n",
    "    col = row.find_all('td')\n",
    "    date = col[0].text.strip()\n",
    "    revenue = col[1].text.strip()\n",
    "    gamestop_revenue.append({\"Date\": date, \"Revenue\": revenue})\n",
    "\n",
    "# Convert the list to a DataFrame\n",
    "gamestop_revenue_df = pd.DataFrame(gamestop_revenue)\n",
    "\n",
    "# Display the DataFrame\n",
    "gamestop_revenue_df.head()\n"
   ]
  },
  {
   "cell_type": "code",
   "execution_count": 1,
   "id": "ffe8ce62-7f91-447b-8fe4-2916c6be0725",
   "metadata": {},
   "outputs": [
    {
     "ename": "ModuleNotFoundError",
     "evalue": "No module named 'matplotlib'",
     "output_type": "error",
     "traceback": [
      "\u001b[0;31m---------------------------------------------------------------------------\u001b[0m",
      "\u001b[0;31mModuleNotFoundError\u001b[0m                       Traceback (most recent call last)",
      "Cell \u001b[0;32mIn[1], line 2\u001b[0m\n\u001b[1;32m      1\u001b[0m \u001b[38;5;66;03m# Import necessary libraries for plotting\u001b[39;00m\n\u001b[0;32m----> 2\u001b[0m \u001b[38;5;28;01mimport\u001b[39;00m \u001b[38;5;21;01mmatplotlib\u001b[39;00m\u001b[38;5;21;01m.\u001b[39;00m\u001b[38;5;21;01mpyplot\u001b[39;00m \u001b[38;5;28;01mas\u001b[39;00m \u001b[38;5;21;01mplt\u001b[39;00m\n\u001b[1;32m      4\u001b[0m \u001b[38;5;66;03m# Convert 'Date' columns to datetime\u001b[39;00m\n\u001b[1;32m      5\u001b[0m tesla_stock_data[\u001b[38;5;124m'\u001b[39m\u001b[38;5;124mDate\u001b[39m\u001b[38;5;124m'\u001b[39m] \u001b[38;5;241m=\u001b[39m pd\u001b[38;5;241m.\u001b[39mto_datetime(tesla_stock_data[\u001b[38;5;124m'\u001b[39m\u001b[38;5;124mDate\u001b[39m\u001b[38;5;124m'\u001b[39m])\n",
      "\u001b[0;31mModuleNotFoundError\u001b[0m: No module named 'matplotlib'"
     ]
    }
   ],
   "source": [
    "# Import necessary libraries for plotting\n",
    "import matplotlib.pyplot as plt\n",
    "\n",
    "# Convert 'Date' columns to datetime\n",
    "tesla_stock_data['Date'] = pd.to_datetime(tesla_stock_data['Date'])\n",
    "tesla_revenue_df['Date'] = pd.to_datetime(tesla_revenue_df['Date'])\n",
    "\n",
    "# Merge the stock data and revenue data on 'Date'\n",
    "tesla_data = pd.merge(tesla_stock_data, tesla_revenue_df, on='Date', how='inner')\n",
    "\n",
    "# Plot Tesla stock data\n",
    "plt.figure(figsize=(14, 7))\n",
    "plt.subplot(2, 1, 1)\n",
    "plt.plot(tesla_data['Date'], tesla_data['Open'], label='Open Price')\n",
    "plt.plot(tesla_data['Date'], tesla_data['Close'], label='Close Price')\n",
    "plt.title('Tesla Stock Prices')\n",
    "plt.legend()\n",
    "\n",
    "# Plot Tesla revenue data\n",
    "plt.subplot(2, 1, 2)\n",
    "plt.plot(tesla_data['Date'], tesla_data['Revenue'].str.replace(',', '').astype(float), label='Revenue')\n",
    "plt.title('Tesla Revenue')\n",
    "plt.legend()\n",
    "\n",
    "plt.tight_layout()\n",
    "plt.show()\n"
   ]
  },
  {
   "cell_type": "code",
   "execution_count": 40,
   "id": "53124123-dc23-4500-afc1-67cc8c63ebdf",
   "metadata": {},
   "outputs": [
    {
     "ename": "NameError",
     "evalue": "name 'plt' is not defined",
     "output_type": "error",
     "traceback": [
      "\u001b[0;31m---------------------------------------------------------------------------\u001b[0m",
      "\u001b[0;31mNameError\u001b[0m                                 Traceback (most recent call last)",
      "Cell \u001b[0;32mIn[40], line 9\u001b[0m\n\u001b[1;32m      6\u001b[0m gamestop_data \u001b[38;5;241m=\u001b[39m pd\u001b[38;5;241m.\u001b[39mmerge(gamestop_stock_data, gamestop_revenue_df, on\u001b[38;5;241m=\u001b[39m\u001b[38;5;124m'\u001b[39m\u001b[38;5;124mDate\u001b[39m\u001b[38;5;124m'\u001b[39m, how\u001b[38;5;241m=\u001b[39m\u001b[38;5;124m'\u001b[39m\u001b[38;5;124minner\u001b[39m\u001b[38;5;124m'\u001b[39m)\n\u001b[1;32m      8\u001b[0m \u001b[38;5;66;03m# Plot GameStop stock data\u001b[39;00m\n\u001b[0;32m----> 9\u001b[0m \u001b[43mplt\u001b[49m\u001b[38;5;241m.\u001b[39mfigure(figsize\u001b[38;5;241m=\u001b[39m(\u001b[38;5;241m14\u001b[39m, \u001b[38;5;241m7\u001b[39m))\n\u001b[1;32m     10\u001b[0m plt\u001b[38;5;241m.\u001b[39msubplot(\u001b[38;5;241m2\u001b[39m, \u001b[38;5;241m1\u001b[39m, \u001b[38;5;241m1\u001b[39m)\n\u001b[1;32m     11\u001b[0m plt\u001b[38;5;241m.\u001b[39mplot(gamestop_data[\u001b[38;5;124m'\u001b[39m\u001b[38;5;124mDate\u001b[39m\u001b[38;5;124m'\u001b[39m], gamestop_data[\u001b[38;5;124m'\u001b[39m\u001b[38;5;124mOpen\u001b[39m\u001b[38;5;124m'\u001b[39m], label\u001b[38;5;241m=\u001b[39m\u001b[38;5;124m'\u001b[39m\u001b[38;5;124mOpen Price\u001b[39m\u001b[38;5;124m'\u001b[39m)\n",
      "\u001b[0;31mNameError\u001b[0m: name 'plt' is not defined"
     ]
    }
   ],
   "source": [
    "# Convert 'Date' columns to datetime\n",
    "gamestop_stock_data['Date'] = pd.to_datetime(gamestop_stock_data['Date'])\n",
    "gamestop_revenue_df['Date'] = pd.to_datetime(gamestop_revenue_df['Date'])\n",
    "\n",
    "# Merge the stock data and revenue data on 'Date'\n",
    "gamestop_data = pd.merge(gamestop_stock_data, gamestop_revenue_df, on='Date', how='inner')\n",
    "\n",
    "# Plot GameStop stock data\n",
    "plt.figure(figsize=(14, 7))\n",
    "plt.subplot(2, 1, 1)\n",
    "plt.plot(gamestop_data['Date'], gamestop_data['Open'], label='Open Price')\n",
    "plt.plot(gamestop_data['Date'], gamestop_data['Close'], label='Close Price')\n",
    "plt.title('GameStop Stock Prices')\n",
    "plt.legend()\n",
    "\n",
    "# Plot GameStop revenue data\n",
    "plt.subplot(2, 1, 2)\n",
    "plt.plot(gamestop_data['Date'], gamestop_data['Revenue'].str.replace(',', '').astype(float), label='Revenue')\n",
    "plt.title('GameStop Revenue')\n",
    "plt.legend()\n",
    "\n",
    "plt.tight_layout()\n",
    "plt.show()\n"
   ]
  },
  {
   "cell_type": "code",
   "execution_count": null,
   "id": "1deac11e-45c9-4817-8db6-2b1fd4ce5718",
   "metadata": {},
   "outputs": [],
   "source": []
  }
 ],
 "metadata": {
  "kernelspec": {
   "display_name": "Python 3 (ipykernel)",
   "language": "python",
   "name": "python3"
  },
  "language_info": {
   "codemirror_mode": {
    "name": "ipython",
    "version": 3
   },
   "file_extension": ".py",
   "mimetype": "text/x-python",
   "name": "python",
   "nbconvert_exporter": "python",
   "pygments_lexer": "ipython3",
   "version": "3.11.9"
  }
 },
 "nbformat": 4,
 "nbformat_minor": 5
}
